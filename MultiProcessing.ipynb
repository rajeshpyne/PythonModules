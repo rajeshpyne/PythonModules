{
 "cells": [
  {
   "cell_type": "code",
   "execution_count": 1,
   "metadata": {
    "collapsed": true
   },
   "outputs": [],
   "source": [
    "import multiprocessing as mp\n",
    "from multiprocessing import Process"
   ]
  },
  {
   "cell_type": "markdown",
   "metadata": {},
   "source": [
    "To start using parallel processing,it is very important to know how many CPU cores are there in your system"
   ]
  },
  {
   "cell_type": "code",
   "execution_count": 6,
   "metadata": {},
   "outputs": [
    {
     "data": {
      "text/plain": [
       "4"
      ]
     },
     "execution_count": 6,
     "metadata": {},
     "output_type": "execute_result"
    }
   ],
   "source": [
    "mp.cpu_count()"
   ]
  },
  {
   "cell_type": "markdown",
   "metadata": {},
   "source": [
    " Multiprocessing <b>Process</b> class is an abstraction that sets up another Python process,provides it to run code and a way for the parent application to control execution.\n",
    "\n",
    "There are two important functions that belongs to the Process class - <b>start()</b> and <b>join()</b> function.\n",
    "\n",
    "At first, we need to write a function, that will be run by the process. Then, we need to instantiate a process object.\n",
    "\n",
    "If we create a process object, nothing will happen until we tell it to start processing via <b>start()</b> function. Then, the process will run and return its result. After that we tell the process to complete via join() function.\n",
    "\n",
    "Without <b>join()</b> function call, process will remain idle and won’t terminate."
   ]
  },
  {
   "cell_type": "code",
   "execution_count": 9,
   "metadata": {
    "collapsed": false
   },
   "outputs": [
    {
     "name": "stdout",
     "output_type": "stream",
     "text": [
      "America\n"
     ]
    },
    {
     "name": "stdout",
     "output_type": "stream",
     "text": [
      "Antartica\n"
     ]
    },
    {
     "name": "stdout",
     "output_type": "stream",
     "text": [
      "The name of the continent is Asia\n"
     ]
    },
    {
     "name": "stdout",
     "output_type": "stream",
     "text": [
      "The name of the continent is America\n"
     ]
    },
    {
     "name": "stdout",
     "output_type": "stream",
     "text": [
      "Australia\n"
     ]
    },
    {
     "name": "stdout",
     "output_type": "stream",
     "text": [
      "The name of the continent is Antartica\n"
     ]
    },
    {
     "name": "stdout",
     "output_type": "stream",
     "text": [
      "The name of the continent is Australia\n"
     ]
    }
   ],
   "source": [
    "def print_func(continent='Asia'):\n",
    "    print('The name of the continent is',continent)\n",
    "    \n",
    "names = ['America','Antartica','Australia']\n",
    "procs = []\n",
    "proc = Process(target=print_func) # instantiating without any argument\n",
    "procs.append(proc)\n",
    "proc.start()\n",
    "\n",
    "for name in names:\n",
    "    print(name)\n",
    "    proc=Process(target=print_func,args=(name,))\n",
    "    procs.append(proc)\n",
    "    proc.start()\n",
    "    \n",
    "for proc in procs:\n",
    "    proc.join()"
   ]
  },
  {
   "cell_type": "markdown",
   "metadata": {},
   "source": [
    "Python Multiprocessing modules provides <b>Queue</b> class that is exactly a First-In-First-Out data structure. They can store any pickle Python object (though simple ones are best) and are extremely useful for sharing data between processes.\n",
    "\n",
    "Queues are specially useful when passed as a parameter to a Process’ target function to enable the Process to consume data. By using put() function we can insert data to then queue and using get() we can get items from queues."
   ]
  },
  {
   "cell_type": "code",
   "execution_count": 10,
   "metadata": {},
   "outputs": [
    {
     "name": "stdout",
     "output_type": "stream",
     "text": [
      "Pushing items to Queue\nItem no. 1   red\nItem no. 2   black\nItem no. 3   blue\nItem no. 4   green\nPopping items from Queue\nitem no :  0   red\nitem no :  1   black\nitem no :  2   blue\nitem no :  3   green\n"
     ]
    }
   ],
   "source": [
    "from multiprocessing import Queue\n",
    "\n",
    "colors = ['red','black','blue','green']\n",
    "\n",
    "count = 1\n",
    "\n",
    "#Instantiating a Queue Object\n",
    "\n",
    "queue = Queue()\n",
    "\n",
    "print('Pushing items to Queue')\n",
    "for cols in colors:\n",
    "    print('Item no.',count,' ',cols)\n",
    "    queue.put(cols)\n",
    "    count=count+1\n",
    "    \n",
    "print('Popping items from Queue')\n",
    "count=0\n",
    "while not queue.empty():\n",
    "    print('item no : ',count,' ',queue.get())\n",
    "    count=count+1"
   ]
  },
  {
   "cell_type": "markdown",
   "metadata": {},
   "source": [
    "<b>Python Multiprocessing Lock Class</b>\n",
    "\n",
    "The task of Lock class is quite simple. It allows code to claim lock so that no other process can execute the similar code until the lock has be released. So the task of Lock class is mainly two. One is to claim lock and other is to release the lock. To claim lock the, acquire() function is used and to release lock release() function is used."
   ]
  },
  {
   "cell_type": "markdown",
   "metadata": {},
   "source": [
    "Task : -\n",
    "\n",
    "We have two queue. One contain the tasks and other will contain the log of the completed task.\n",
    "\n",
    "We instantiate two processes to complete the task. Python Queue class is already synchronized. This means that we dont need to use the Lock class to block multiple process to access the same Queue object. Thats why we dont need to use Lock class in the Queue."
   ]
  },
  {
   "cell_type": "code",
   "execution_count": 1,
   "metadata": {},
   "outputs": [
    {
     "name": "stdout",
     "output_type": "stream",
     "text": [
      "Task no 0\n"
     ]
    },
    {
     "name": "stdout",
     "output_type": "stream",
     "text": [
      "Task no 1\n"
     ]
    },
    {
     "name": "stdout",
     "output_type": "stream",
     "text": [
      "Task no 2\n"
     ]
    },
    {
     "name": "stdout",
     "output_type": "stream",
     "text": [
      "Task no 3\n"
     ]
    },
    {
     "name": "stdout",
     "output_type": "stream",
     "text": [
      "Task no 0 is done by Process-1\nTask no 2 is done by Process-3\nTask no 1 is done by Process-2\nTask no 3 is done by Process-4\n"
     ]
    }
   ],
   "source": [
    "from multiprocessing import Lock, Process, Queue, current_process\n",
    "import time\n",
    "import queue # imported for using queue.Empty exception\n",
    "\n",
    "\n",
    "def do_job(tasks_to_accomplish,tasks_that_are_done):\n",
    "    while True:\n",
    "        try:\n",
    "            '''\n",
    "                try to get task from the queue. get_nowait() function will \n",
    "                raise queue.Empty exception if the queue is empty. \n",
    "                queue(False) function would do the same task also.\n",
    "            '''\n",
    "            task = tasks_to_accomplish.get_nowait()\n",
    "        except queue.Empty:\n",
    "            break\n",
    "            \n",
    "        else:\n",
    "            '''\n",
    "                if no exception has been raised, add the task completion \n",
    "                message to task_that_are_done queue\n",
    "            '''\n",
    "            print(task)\n",
    "            tasks_that_are_done.put(task+' is done by '+ current_process().name)\n",
    "            time.sleep(5)\n",
    "        return True\n",
    "    \n",
    "def main():\n",
    "    number_of_task = 10\n",
    "    number_of_processes = 4\n",
    "    tasks_to_accomplish = Queue()\n",
    "    tasks_that_are_done = Queue()\n",
    "    processes = []\n",
    "    \n",
    "    for i in range(number_of_task):\n",
    "        tasks_to_accomplish.put(\"Task no \" + str(i))\n",
    "\n",
    "    # creating processes\n",
    "    for w in range(number_of_processes):\n",
    "        p = Process(target=do_job, args=(tasks_to_accomplish, tasks_that_are_done))\n",
    "        processes.append(p)\n",
    "        p.start()\n",
    "\n",
    "    # completing process\n",
    "    for p in processes:\n",
    "        p.join()\n",
    "\n",
    "    # print the output\n",
    "    while not tasks_that_are_done.empty():\n",
    "        print(tasks_that_are_done.get())\n",
    "\n",
    "    return True\n",
    "\n",
    "if __name__ == '__main__':\n",
    "    main()"
   ]
  },
  {
   "cell_type": "markdown",
   "metadata": {},
   "source": [
    "<b>Python multiprocessing Pool</b>\n",
    "\n",
    "Python multiprocessing Pool can be used for parallel execution of a function across multiple input values, distributing the input data across processes (data parallelism)."
   ]
  },
  {
   "cell_type": "code",
   "execution_count": 3,
   "metadata": {},
   "outputs": [
    {
     "name": "stdout",
     "output_type": "stream",
     "text": [
      " Process A is waiting for 5\n"
     ]
    },
    {
     "name": "stdout",
     "output_type": "stream",
     "text": [
      " Process B is waiting for 2\n"
     ]
    },
    {
     "name": "stdout",
     "output_type": "stream",
     "text": [
      " Process B is finished\n"
     ]
    },
    {
     "name": "stdout",
     "output_type": "stream",
     "text": [
      " Process C is waiting for 3\n"
     ]
    },
    {
     "name": "stdout",
     "output_type": "stream",
     "text": [
      " Process A is finished\n"
     ]
    },
    {
     "name": "stdout",
     "output_type": "stream",
     "text": [
      " Process D is waiting for 4\n"
     ]
    },
    {
     "name": "stdout",
     "output_type": "stream",
     "text": [
      " Process C is finished\n"
     ]
    },
    {
     "name": "stdout",
     "output_type": "stream",
     "text": [
      " Process D is finished\n"
     ]
    }
   ],
   "source": [
    "from multiprocessing import Pool\n",
    "import time\n",
    "\n",
    "work = ([\"A\",5],[\"B\",2],[\"C\",3],[\"D\",4])\n",
    "\n",
    "def work_log(work_data):\n",
    "    print(\" Process %s is waiting for %s\" % (work_data[0],work_data[1]))\n",
    "    time.sleep(int(work_data[1]))\n",
    "    print(\" Process %s is finished\" %work_data[0])\n",
    "    \n",
    "def pool_handler():\n",
    "    p = Pool(2)\n",
    "    p.map(work_log,work)\n",
    "    \n",
    "if __name__=='__main__':\n",
    "    pool_handler()"
   ]
  },
  {
   "cell_type": "markdown",
   "metadata": {},
   "source": []
  }
 ],
 "metadata": {
  "kernelspec": {
   "display_name": "Python 2",
   "language": "python",
   "name": "python2"
  },
  "language_info": {
   "codemirror_mode": {
    "name": "ipython",
    "version": 2
   },
   "file_extension": ".py",
   "mimetype": "text/x-python",
   "name": "python",
   "nbconvert_exporter": "python",
   "pygments_lexer": "ipython2",
   "version": "2.7.6"
  }
 },
 "nbformat": 4,
 "nbformat_minor": 0
}
